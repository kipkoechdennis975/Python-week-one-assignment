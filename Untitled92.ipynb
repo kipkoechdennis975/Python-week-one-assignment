{
 "cells": [
  {
   "cell_type": "code",
   "execution_count": 1,
   "id": "d76de463",
   "metadata": {},
   "outputs": [
    {
     "name": "stdout",
     "output_type": "stream",
     "text": [
      "please input the first number: 4\n",
      "please input the second number: 4\n",
      "please input an operator (+,-,*,/): *\n",
      "The result of 4*4 is :16\n"
     ]
    }
   ],
   "source": [
    "# User input\n",
    "Num_1=int(input(\"please input the first number: \"))\n",
    "Num_2=int(input(\"please input the second number: \"))\n",
    "operator=input(\"please input an operator (+,-,*,/): \")\n",
    "# Performing calculation based on the operator\n",
    "if operator =='+':\n",
    "    result=Num_1+Num_2\n",
    "elif operator=='-':\n",
    "    result=Num_1-Num_2\n",
    "elif operator=='*':\n",
    "    result=Num_1*Num_2\n",
    "elif operator =='/':\n",
    "    if Num_2 !=0:\n",
    "        result=Num_1/Num_2\n",
    "        \n",
    "    else:\n",
    "        result=\"Error: Division by zero is not allowed.\"\n",
    "else:\n",
    "    result = \"Error: Invalid operator.\"\n",
    "    # Displaying the results\n",
    "print(f\"The result of {Num_1}{operator}{Num_2} is :{result}\")\n",
    "        \n"
   ]
  }
 ],
 "metadata": {
  "kernelspec": {
   "display_name": "Python 3 (ipykernel)",
   "language": "python",
   "name": "python3"
  },
  "language_info": {
   "codemirror_mode": {
    "name": "ipython",
    "version": 3
   },
   "file_extension": ".py",
   "mimetype": "text/x-python",
   "name": "python",
   "nbconvert_exporter": "python",
   "pygments_lexer": "ipython3",
   "version": "3.9.12"
  }
 },
 "nbformat": 4,
 "nbformat_minor": 5
}
